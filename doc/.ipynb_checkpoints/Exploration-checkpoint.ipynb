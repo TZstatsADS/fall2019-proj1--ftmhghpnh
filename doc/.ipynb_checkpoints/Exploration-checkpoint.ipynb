{
 "cells": [
  {
   "cell_type": "code",
   "execution_count": 1,
   "metadata": {},
   "outputs": [],
   "source": [
    "import pyreadr\n",
    "import pandas as pd\n",
    "import numpy as np\n",
    "\n",
    "tmp = pyreadr.read_r('University/ADS/fall2019-proj1--ftmhghpnh/output/processed_lyrics.RData')\n",
    "dt_lyrics = tmp['dt_lyrics']"
   ]
  },
  {
   "cell_type": "code",
   "execution_count": 55,
   "metadata": {},
   "outputs": [],
   "source": [
    "frames = []\n",
    "for year in dt_lyrics.year.unique():\n",
    "    tmp = pd.Series(' '.join(dt_lyrics[dt_lyrics.year == year].stemmedwords).split()).value_counts()[:30]\n",
    "    tmp = {'Word': tmp.keys(), 'Count': tmp.values }\n",
    "    tmp = pd.DataFrame(tmp)\n",
    "    tmp['year'] = year\n",
    "    frames.append(tmp)\n",
    "yearly_word_count = pd.concat(frames)"
   ]
  },
  {
   "cell_type": "code",
   "execution_count": null,
   "metadata": {},
   "outputs": [],
   "source": []
  }
 ],
 "metadata": {
  "kernelspec": {
   "display_name": "Python 3",
   "language": "python",
   "name": "python3"
  },
  "language_info": {
   "codemirror_mode": {
    "name": "ipython",
    "version": 3
   },
   "file_extension": ".py",
   "mimetype": "text/x-python",
   "name": "python",
   "nbconvert_exporter": "python",
   "pygments_lexer": "ipython3",
   "version": "3.6.5"
  }
 },
 "nbformat": 4,
 "nbformat_minor": 2
}
